{
 "cells": [
  {
   "cell_type": "markdown",
   "metadata": {},
   "source": [
    "# Congress Data EDA "
   ]
  },
  {
   "cell_type": "markdown",
   "metadata": {},
   "source": [
    "The purpose of this EDA analysis is to generate a summary of the parsed congress speach text generated through the developed code repo! This process opens the JSON file outpu generated for a particular date, reads the inputs as a data frame, transforms the data by cleaning up and removing a set of stop words, and then generates statistics around the number of pages in a given congress speach date, number of speakers, along with character, and word counts. The input to this analysis is a set of input dates on which to perform the analysis. These results are then compared with the stanford data, to compare the results."
   ]
  },
  {
   "cell_type": "markdown",
   "metadata": {},
   "source": [
    "## Importing libraries, and reading data"
   ]
  },
  {
   "cell_type": "code",
   "execution_count": 73,
   "metadata": {},
   "outputs": [],
   "source": [
    "# Importing required packages\n",
    "\n",
    "import json\n",
    "import pandas as pd\n",
    "import matplotlib.pyplot as plt\n",
    "from numpy.random import randint"
   ]
  },
  {
   "cell_type": "code",
   "execution_count": 74,
   "metadata": {},
   "outputs": [],
   "source": [
    "# defining input file location\n",
    "# this is hard coded, but can be changed to programatically scroll through the entire directory\n",
    "input_file_path = '/Users/jaysunda/Sundar/Personal/IU-DS/Final-Project/src/json_output/Cleaned-CREC-'\n",
    "input_date = '2021-06-08'\n",
    "json_input_file_path = input_file_path + input_date + '.json'\n",
    "# json_input_file_path = '/Users/jaysunda/Sundar/Personal/IU-DS/Final-Project/src/json_output/Cleaned-CREC-2021-06-08.json'"
   ]
  },
  {
   "cell_type": "code",
   "execution_count": 75,
   "metadata": {},
   "outputs": [],
   "source": [
    "# Read the json data as a sample dataframe\n",
    "df = pd.read_json(json_input_file_path)\n",
    "df['processed_date'] = input_date"
   ]
  },
  {
   "cell_type": "code",
   "execution_count": 76,
   "metadata": {},
   "outputs": [
    {
     "name": "stdout",
     "output_type": "stream",
     "text": [
      "The imported dataframe has 63 rows, across 11 columns\n"
     ]
    }
   ],
   "source": [
    "df_rows, df_columns = df.shape\n",
    "print(\"The imported dataframe has {} rows, across {} columns\".format(df_rows, df_columns))"
   ]
  },
  {
   "cell_type": "code",
   "execution_count": 77,
   "metadata": {},
   "outputs": [
    {
     "data": {
      "text/html": [
       "<div>\n",
       "<style scoped>\n",
       "    .dataframe tbody tr th:only-of-type {\n",
       "        vertical-align: middle;\n",
       "    }\n",
       "\n",
       "    .dataframe tbody tr th {\n",
       "        vertical-align: top;\n",
       "    }\n",
       "\n",
       "    .dataframe thead th {\n",
       "        text-align: right;\n",
       "    }\n",
       "</style>\n",
       "<table border=\"1\" class=\"dataframe\">\n",
       "  <thead>\n",
       "    <tr style=\"text-align: right;\">\n",
       "      <th></th>\n",
       "      <th>CR_Section</th>\n",
       "      <th>title</th>\n",
       "      <th>url</th>\n",
       "      <th>Pages</th>\n",
       "      <th>raw_text</th>\n",
       "      <th>cleaned_text</th>\n",
       "      <th>Speakers</th>\n",
       "      <th>Speaker Affiliation</th>\n",
       "      <th>Speaker Role</th>\n",
       "      <th>citation</th>\n",
       "      <th>processed_date</th>\n",
       "    </tr>\n",
       "  </thead>\n",
       "  <tbody>\n",
       "    <tr>\n",
       "      <th>count</th>\n",
       "      <td>63</td>\n",
       "      <td>63</td>\n",
       "      <td>63</td>\n",
       "      <td>63</td>\n",
       "      <td>63</td>\n",
       "      <td>63</td>\n",
       "      <td>63</td>\n",
       "      <td>63</td>\n",
       "      <td>63</td>\n",
       "      <td>63</td>\n",
       "      <td>63</td>\n",
       "    </tr>\n",
       "    <tr>\n",
       "      <th>unique</th>\n",
       "      <td>2</td>\n",
       "      <td>57</td>\n",
       "      <td>63</td>\n",
       "      <td>39</td>\n",
       "      <td>63</td>\n",
       "      <td>62</td>\n",
       "      <td>42</td>\n",
       "      <td>2</td>\n",
       "      <td>1</td>\n",
       "      <td>25</td>\n",
       "      <td>1</td>\n",
       "    </tr>\n",
       "    <tr>\n",
       "      <th>top</th>\n",
       "      <td>Senate</td>\n",
       "      <td>LEGISLATIVE SESSION</td>\n",
       "      <td>https://www.govinfo.gov/content/pkg/CREC-2021-...</td>\n",
       "      <td>S3997 - S3997</td>\n",
       "      <td>\\n[Congressional Record Volume 167, Number 99 ...</td>\n",
       "      <td>LEGISLATIVE SESSION\\n\\n\\tMr. SCHUMER. Madam Pr...</td>\n",
       "      <td>[Charles E. Schumer]</td>\n",
       "      <td>United States Senate</td>\n",
       "      <td>speaking</td>\n",
       "      <td>167 Cong. Rec. S3997</td>\n",
       "      <td>2021-06-08</td>\n",
       "    </tr>\n",
       "    <tr>\n",
       "      <th>freq</th>\n",
       "      <td>42</td>\n",
       "      <td>3</td>\n",
       "      <td>1</td>\n",
       "      <td>8</td>\n",
       "      <td>1</td>\n",
       "      <td>2</td>\n",
       "      <td>14</td>\n",
       "      <td>42</td>\n",
       "      <td>63</td>\n",
       "      <td>8</td>\n",
       "      <td>63</td>\n",
       "    </tr>\n",
       "  </tbody>\n",
       "</table>\n",
       "</div>"
      ],
      "text/plain": [
       "       CR_Section                title  \\\n",
       "count          63                   63   \n",
       "unique          2                   57   \n",
       "top        Senate  LEGISLATIVE SESSION   \n",
       "freq           42                    3   \n",
       "\n",
       "                                                      url          Pages  \\\n",
       "count                                                  63             63   \n",
       "unique                                                 63             39   \n",
       "top     https://www.govinfo.gov/content/pkg/CREC-2021-...  S3997 - S3997   \n",
       "freq                                                    1              8   \n",
       "\n",
       "                                                 raw_text  \\\n",
       "count                                                  63   \n",
       "unique                                                 63   \n",
       "top     \\n[Congressional Record Volume 167, Number 99 ...   \n",
       "freq                                                    1   \n",
       "\n",
       "                                             cleaned_text  \\\n",
       "count                                                  63   \n",
       "unique                                                 62   \n",
       "top     LEGISLATIVE SESSION\\n\\n\\tMr. SCHUMER. Madam Pr...   \n",
       "freq                                                    2   \n",
       "\n",
       "                    Speakers   Speaker Affiliation Speaker Role  \\\n",
       "count                     63                    63           63   \n",
       "unique                    42                     2            1   \n",
       "top     [Charles E. Schumer]  United States Senate     speaking   \n",
       "freq                      14                    42           63   \n",
       "\n",
       "                    citation processed_date  \n",
       "count                     63             63  \n",
       "unique                    25              1  \n",
       "top     167 Cong. Rec. S3997     2021-06-08  \n",
       "freq                       8             63  "
      ]
     },
     "execution_count": 77,
     "metadata": {},
     "output_type": "execute_result"
    }
   ],
   "source": [
    "# Describe the base dataframe to check datatypes, and char frequencies\n",
    "df.describe()"
   ]
  },
  {
   "cell_type": "markdown",
   "metadata": {},
   "source": [
    "## Set up a dictionary to cleanup given set of words/special characters"
   ]
  },
  {
   "cell_type": "code",
   "execution_count": 78,
   "metadata": {},
   "outputs": [],
   "source": [
    "# Define a dictionary of string series to replace with a replace character. This can be expanded and other \n",
    "# The key is the character to replace, and the value is the character to replace the string with.\n",
    "\n",
    "cleanup_dict = {\"\\\\n\" : \" \", \n",
    "                \"\\\\t\" : \" \"}"
   ]
  },
  {
   "cell_type": "code",
   "execution_count": 79,
   "metadata": {},
   "outputs": [
    {
     "name": "stdout",
     "output_type": "stream",
     "text": [
      "Processing to remove stop word from the dataframe. Removing:  \\n\n",
      "Processing to remove stop word from the dataframe. Removing:  \\t\n"
     ]
    }
   ],
   "source": [
    "# Loop through the Cleanup process, to remove special characters\n",
    "\n",
    "for key in cleanup_dict:\n",
    "    print(\"Processing to remove stop word from the dataframe. Removing: \", key)\n",
    "    \n",
    "    df['cleaned_text'] = df['cleaned_text'].str.replace(key,cleanup_dict[key])"
   ]
  },
  {
   "cell_type": "code",
   "execution_count": 80,
   "metadata": {},
   "outputs": [
    {
     "data": {
      "text/html": [
       "<div>\n",
       "<style scoped>\n",
       "    .dataframe tbody tr th:only-of-type {\n",
       "        vertical-align: middle;\n",
       "    }\n",
       "\n",
       "    .dataframe tbody tr th {\n",
       "        vertical-align: top;\n",
       "    }\n",
       "\n",
       "    .dataframe thead th {\n",
       "        text-align: right;\n",
       "    }\n",
       "</style>\n",
       "<table border=\"1\" class=\"dataframe\">\n",
       "  <thead>\n",
       "    <tr style=\"text-align: right;\">\n",
       "      <th></th>\n",
       "      <th>CR_Section</th>\n",
       "      <th>title</th>\n",
       "      <th>url</th>\n",
       "      <th>Pages</th>\n",
       "      <th>raw_text</th>\n",
       "      <th>cleaned_text</th>\n",
       "      <th>Speakers</th>\n",
       "      <th>Speaker Affiliation</th>\n",
       "      <th>Speaker Role</th>\n",
       "      <th>citation</th>\n",
       "      <th>processed_date</th>\n",
       "    </tr>\n",
       "  </thead>\n",
       "  <tbody>\n",
       "    <tr>\n",
       "      <th>count</th>\n",
       "      <td>63</td>\n",
       "      <td>63</td>\n",
       "      <td>63</td>\n",
       "      <td>63</td>\n",
       "      <td>63</td>\n",
       "      <td>63</td>\n",
       "      <td>63</td>\n",
       "      <td>63</td>\n",
       "      <td>63</td>\n",
       "      <td>63</td>\n",
       "      <td>63</td>\n",
       "    </tr>\n",
       "    <tr>\n",
       "      <th>unique</th>\n",
       "      <td>2</td>\n",
       "      <td>57</td>\n",
       "      <td>63</td>\n",
       "      <td>39</td>\n",
       "      <td>63</td>\n",
       "      <td>62</td>\n",
       "      <td>42</td>\n",
       "      <td>2</td>\n",
       "      <td>1</td>\n",
       "      <td>25</td>\n",
       "      <td>1</td>\n",
       "    </tr>\n",
       "    <tr>\n",
       "      <th>top</th>\n",
       "      <td>Senate</td>\n",
       "      <td>LEGISLATIVE SESSION</td>\n",
       "      <td>https://www.govinfo.gov/content/pkg/CREC-2021-...</td>\n",
       "      <td>S3997 - S3997</td>\n",
       "      <td>\\n[Congressional Record Volume 167, Number 99 ...</td>\n",
       "      <td>LEGISLATIVE SESSION   Mr. SCHUMER. Madam Presi...</td>\n",
       "      <td>[Charles E. Schumer]</td>\n",
       "      <td>United States Senate</td>\n",
       "      <td>speaking</td>\n",
       "      <td>167 Cong. Rec. S3997</td>\n",
       "      <td>2021-06-08</td>\n",
       "    </tr>\n",
       "    <tr>\n",
       "      <th>freq</th>\n",
       "      <td>42</td>\n",
       "      <td>3</td>\n",
       "      <td>1</td>\n",
       "      <td>8</td>\n",
       "      <td>1</td>\n",
       "      <td>2</td>\n",
       "      <td>14</td>\n",
       "      <td>42</td>\n",
       "      <td>63</td>\n",
       "      <td>8</td>\n",
       "      <td>63</td>\n",
       "    </tr>\n",
       "  </tbody>\n",
       "</table>\n",
       "</div>"
      ],
      "text/plain": [
       "       CR_Section                title  \\\n",
       "count          63                   63   \n",
       "unique          2                   57   \n",
       "top        Senate  LEGISLATIVE SESSION   \n",
       "freq           42                    3   \n",
       "\n",
       "                                                      url          Pages  \\\n",
       "count                                                  63             63   \n",
       "unique                                                 63             39   \n",
       "top     https://www.govinfo.gov/content/pkg/CREC-2021-...  S3997 - S3997   \n",
       "freq                                                    1              8   \n",
       "\n",
       "                                                 raw_text  \\\n",
       "count                                                  63   \n",
       "unique                                                 63   \n",
       "top     \\n[Congressional Record Volume 167, Number 99 ...   \n",
       "freq                                                    1   \n",
       "\n",
       "                                             cleaned_text  \\\n",
       "count                                                  63   \n",
       "unique                                                 62   \n",
       "top     LEGISLATIVE SESSION   Mr. SCHUMER. Madam Presi...   \n",
       "freq                                                    2   \n",
       "\n",
       "                    Speakers   Speaker Affiliation Speaker Role  \\\n",
       "count                     63                    63           63   \n",
       "unique                    42                     2            1   \n",
       "top     [Charles E. Schumer]  United States Senate     speaking   \n",
       "freq                      14                    42           63   \n",
       "\n",
       "                    citation processed_date  \n",
       "count                     63             63  \n",
       "unique                    25              1  \n",
       "top     167 Cong. Rec. S3997     2021-06-08  \n",
       "freq                       8             63  "
      ]
     },
     "execution_count": 80,
     "metadata": {},
     "output_type": "execute_result"
    }
   ],
   "source": [
    "df.describe()"
   ]
  },
  {
   "cell_type": "markdown",
   "metadata": {},
   "source": [
    "## Generate speakers in each session"
   ]
  },
  {
   "cell_type": "code",
   "execution_count": 14,
   "metadata": {},
   "outputs": [
    {
     "name": "stdout",
     "output_type": "stream",
     "text": [
      "E613 - E613 ['Maria Elvira Salazar'] 1\n",
      "E613 - E613 ['Gregorio Kilili Camacho Sablan'] 1\n",
      "E613 - E613 ['Cynthia Axne'] 1\n",
      "E613 - E614 ['Joaquin Castro'] 1\n",
      "E614 - E614 ['Carolyn B. Maloney'] 1\n",
      "E614 - E614 ['Blaine Luetkemeyer'] 1\n",
      "E614 - E615 ['Sam Graves'] 1\n",
      "E615 - E615 ['Eleanor Holmes Norton'] 1\n",
      "E615 - E615 ['Debbie Dingell'] 1\n",
      "E615 - E615 ['Rodney Davis'] 1\n",
      "E615 - E616 ['Marcy Kaptur'] 1\n",
      "E616 - E616 ['Ted Lieu'] 1\n",
      "E616 - E616 ['Blaine Luetkemeyer'] 1\n",
      "E616 - E616 ['Ann M. Kuster'] 1\n",
      "E616 - E617 ['Mike Gallagher'] 1\n",
      "E617 - E617 ['Gregorio Kilili Camacho Sablan'] 1\n",
      "E617 - E618 ['Sam Graves'] 1\n",
      "E618 - E618 ['Michael R. Turner'] 1\n",
      "E618 - E618 ['Eleanor Holmes Norton'] 1\n",
      "E618 - E618 ['Richard E. Neal'] 1\n",
      "E618 - E619 ['Kevin Brady'] 1\n",
      "S3967 - S3967 ['Charles E. Schumer'] 1\n",
      "S3967 - S3968 ['Charles E. Schumer'] 1\n",
      "S3968 - S3968 ['Mitch McConnell', 'Charles E. Schumer'] 2\n",
      "S3968 - S3969 ['Mitch McConnell', 'Richard J. Durbin'] 2\n",
      "S3969 - S3970 ['Richard J. Durbin', 'John Thune'] 2\n",
      "S3970 - S3971 ['Michael F. Bennet', 'John Thune'] 2\n",
      "S3971 - S3972 ['Michael F. Bennet', 'Tina Smith', 'Mike Crapo', 'Richard J. Durbin'] 4\n",
      "S3972 - S3973 ['Susan M. Collins', 'Mark R. Warner'] 2\n",
      "S3973 - S3974 ['John Cornyn'] 1\n",
      "S3974 - S3974 ['Chuck Grassley', 'Maria Cantwell'] 2\n",
      "S3974 - S3974 ['Maria Cantwell'] 1\n",
      "S3974 - S3975 ['Maria Cantwell'] 1\n",
      "S3975 - S3975 ['Margaret Wood Hassan'] 1\n",
      "S3975 - S3980 ['John Cornyn', 'Patty Murray', 'Rick Scott', 'Maria Cantwell', 'Rand Paul', 'John Kennedy', 'Richard J. Durbin', 'Roger F. Wicker', 'Todd Young', 'Charles E. Schumer'] 10\n",
      "S3980 - S3981 ['Richard J. Durbin', 'Patty Murray', 'Charles E. Schumer'] 3\n",
      "S3981 - S3981 ['Richard J. Durbin'] 1\n",
      "S3981 - S3981 ['Sheldon Whitehouse'] 1\n",
      "S3981 - S3982 ['Richard J. Durbin'] 1\n",
      "S3982 - S3982 ['Mitch McConnell'] 1\n",
      "S3982 - S3983 ['Mitch McConnell'] 1\n",
      "S3983 - S3983 ['Roger F. Wicker'] 1\n",
      "S3983 - S3983 ['Kyrsten Sinema'] 1\n",
      "S3983 - S3983 ['Cindy Hyde-Smith'] 1\n",
      "S3983 - S3984 ['John Barrasso'] 1\n",
      "S3984 - S3984 ['James M. Inhofe'] 1\n",
      "S3984 - S3984 ['Marco Rubio'] 1\n",
      "S3984 - S3984 ['James E. Risch'] 1\n",
      "S3989 - S3989 ['Alex Padilla'] 1\n",
      "S3994 - S3995 ['Mr. BENNETT'] 1\n",
      "S3995 - S3996 ['Sheldon Whitehouse'] 1\n",
      "S3996 - S3996 ['Charles E. Schumer'] 1\n",
      "S3996 - S3996 ['Charles E. Schumer'] 1\n",
      "S3996 - S3996 ['Charles E. Schumer'] 1\n",
      "S3996 - S3997 ['Charles E. Schumer'] 1\n",
      "S3997 - S3997 ['Charles E. Schumer'] 1\n",
      "S3997 - S3997 ['Charles E. Schumer'] 1\n",
      "S3997 - S3997 ['Charles E. Schumer'] 1\n",
      "S3997 - S3997 ['Charles E. Schumer'] 1\n",
      "S3997 - S3997 ['Charles E. Schumer'] 1\n",
      "S3997 - S3997 ['Charles E. Schumer'] 1\n",
      "S3997 - S3997 ['Charles E. Schumer'] 1\n",
      "S3997 - S3997 ['Charles E. Schumer'] 1\n"
     ]
    }
   ],
   "source": [
    "# Get Speakers, and Number of Speakers in each page\n",
    "for index, row in df.iterrows():\n",
    "    print(row['Pages'], row['Speakers'], len(row['Speakers']))"
   ]
  },
  {
   "cell_type": "markdown",
   "metadata": {},
   "source": [
    "## Function to count characters and words"
   ]
  },
  {
   "cell_type": "code",
   "execution_count": 15,
   "metadata": {},
   "outputs": [],
   "source": [
    "# Function to get the number of characters in each input string\n",
    "def char_count(input_text):\n",
    "    counter=0\n",
    "    for i in input_text:\n",
    "#         print(i)\n",
    "        counter+=1\n",
    "    return counter\n",
    "\n",
    "# Function to get the number of words in each input string\n",
    "def word_count(input_text):\n",
    "#     print(input_text.split())\n",
    "    counter=len(input_text.split())\n",
    "    return counter"
   ]
  },
  {
   "cell_type": "markdown",
   "metadata": {},
   "source": [
    "## Build summary statistics"
   ]
  },
  {
   "cell_type": "code",
   "execution_count": 82,
   "metadata": {},
   "outputs": [
    {
     "data": {
      "text/html": [
       "<div>\n",
       "<style scoped>\n",
       "    .dataframe tbody tr th:only-of-type {\n",
       "        vertical-align: middle;\n",
       "    }\n",
       "\n",
       "    .dataframe tbody tr th {\n",
       "        vertical-align: top;\n",
       "    }\n",
       "\n",
       "    .dataframe thead th {\n",
       "        text-align: right;\n",
       "    }\n",
       "</style>\n",
       "<table border=\"1\" class=\"dataframe\">\n",
       "  <thead>\n",
       "    <tr style=\"text-align: right;\">\n",
       "      <th></th>\n",
       "      <th>Pages</th>\n",
       "      <th>#_Speakers</th>\n",
       "      <th>#_char_count</th>\n",
       "      <th>#_word_count</th>\n",
       "    </tr>\n",
       "  </thead>\n",
       "  <tbody>\n",
       "  </tbody>\n",
       "</table>\n",
       "</div>"
      ],
      "text/plain": [
       "Empty DataFrame\n",
       "Columns: [Pages, #_Speakers, #_char_count, #_word_count]\n",
       "Index: []"
      ]
     },
     "execution_count": 82,
     "metadata": {},
     "output_type": "execute_result"
    }
   ],
   "source": [
    "# Creating an empty datafarme to collect speakers and character count in each page\n",
    "pages_df = pd.DataFrame(columns=['Pages', '#_Speakers', '#_char_count', '#_word_count'])\n",
    "pages_df"
   ]
  },
  {
   "cell_type": "code",
   "execution_count": 83,
   "metadata": {},
   "outputs": [
    {
     "name": "stdout",
     "output_type": "stream",
     "text": [
      "            Pages #_Speakers #_char_count #_word_count\n",
      "0     E613 - E613          1         2910          438\n",
      "1     E613 - E613          1         2348          335\n",
      "2     E613 - E613          1         2844          441\n",
      "3     E613 - E614          1         1944          280\n",
      "4     E614 - E614          1         6267          932\n",
      "..            ...        ...          ...          ...\n",
      "58  S3997 - S3997          1         1131          167\n",
      "59  S3997 - S3997          1         1209          175\n",
      "60  S3997 - S3997          1          569           80\n",
      "61  S3997 - S3997          1          672          101\n",
      "62  S3997 - S3997          1          358           51\n",
      "\n",
      "[63 rows x 4 columns]\n"
     ]
    }
   ],
   "source": [
    "# This loops through each row in the base dataframe to collect statistics\n",
    "for index, row in df.iterrows():\n",
    "    pages_df.loc[index] = [row['Pages'], len(row['Speakers']), char_count(row['cleaned_text']), word_count(row['cleaned_text'])]\n",
    "\n",
    "print(pages_df)"
   ]
  },
  {
   "cell_type": "code",
   "execution_count": 84,
   "metadata": {},
   "outputs": [
    {
     "data": {
      "text/plain": [
       "[6, 5]"
      ]
     },
     "execution_count": 84,
     "metadata": {},
     "output_type": "execute_result"
    }
   ],
   "source": [
    "# generate a list of random characters to test the data for different dates\n",
    "list(randint(10, size=2))"
   ]
  },
  {
   "cell_type": "markdown",
   "metadata": {},
   "source": [
    "## Plot showing number of speakers in each congress page"
   ]
  },
  {
   "cell_type": "code",
   "execution_count": 85,
   "metadata": {},
   "outputs": [
    {
     "data": {
      "text/plain": [
       "<matplotlib.axes._subplots.AxesSubplot at 0x1279ca190>"
      ]
     },
     "execution_count": 85,
     "metadata": {},
     "output_type": "execute_result"
    },
    {
     "data": {
      "image/png": "[encoded data removed]",
      "text/plain": [
       "<Figure size 7200x1800 with 1 Axes>"
      ]
     },
     "metadata": {
      "needs_background": "light"
     },
     "output_type": "display_data"
    }
   ],
   "source": [
    "\n",
    "pages_df.plot.bar(x='Pages', y='#_Speakers', rot=0)"
   ]
  },
  {
   "cell_type": "markdown",
   "metadata": {},
   "source": [
    "## Speakers in each page"
   ]
  },
  {
   "cell_type": "code",
   "execution_count": 86,
   "metadata": {},
   "outputs": [
    {
     "data": {
      "text/plain": [
       "Text(0.5, 1.0, '# of Speakers by Each Page')"
      ]
     },
     "execution_count": 86,
     "metadata": {},
     "output_type": "execute_result"
    },
    {
     "data": {
      "image/png": "[encoded data removed]",
      "text/plain": [
       "<Figure size 7200x1800 with 1 Axes>"
      ]
     },
     "metadata": {
      "needs_background": "light"
     },
     "output_type": "display_data"
    }
   ],
   "source": [
    "plt.rcParams[\"figure.figsize\"] = (100, 25)\n",
    "plt.bar(pages_df['Pages'],pages_df['#_Speakers'], align='center')\n",
    "plt.title('# of Speakers by Each Page')"
   ]
  },
  {
   "cell_type": "markdown",
   "metadata": {},
   "source": [
    "## Plot showing number of words in each page"
   ]
  },
  {
   "cell_type": "code",
   "execution_count": 87,
   "metadata": {},
   "outputs": [
    {
     "data": {
      "text/plain": [
       "Text(0.5, 1.0, '# of Words by Each Page')"
      ]
     },
     "execution_count": 87,
     "metadata": {},
     "output_type": "execute_result"
    },
    {
     "data": {
      "image/png": "[encoded data removed]",
      "text/plain": [
       "<Figure size 7200x1800 with 1 Axes>"
      ]
     },
     "metadata": {
      "needs_background": "light"
     },
     "output_type": "display_data"
    }
   ],
   "source": [
    "plt.bar(pages_df['Pages'],pages_df['#_word_count'], align='center')\n",
    "plt.title('# of Words by Each Page')"
   ]
  },
  {
   "cell_type": "markdown",
   "metadata": {},
   "source": [
    "## Summary table with details of number of speakers, character count, and word count"
   ]
  },
  {
   "cell_type": "code",
   "execution_count": 88,
   "metadata": {},
   "outputs": [
    {
     "name": "stdout",
     "output_type": "stream",
     "text": [
      "This table shows a summary stats of number of speaker, and char/word count by page\n"
     ]
    },
    {
     "data": {
      "text/html": [
       "<div>\n",
       "<style scoped>\n",
       "    .dataframe tbody tr th:only-of-type {\n",
       "        vertical-align: middle;\n",
       "    }\n",
       "\n",
       "    .dataframe tbody tr th {\n",
       "        vertical-align: top;\n",
       "    }\n",
       "\n",
       "    .dataframe thead th {\n",
       "        text-align: right;\n",
       "    }\n",
       "</style>\n",
       "<table border=\"1\" class=\"dataframe\">\n",
       "  <thead>\n",
       "    <tr style=\"text-align: right;\">\n",
       "      <th></th>\n",
       "      <th>Pages</th>\n",
       "      <th>#_Speakers</th>\n",
       "      <th>#_char_count</th>\n",
       "      <th>#_word_count</th>\n",
       "    </tr>\n",
       "  </thead>\n",
       "  <tbody>\n",
       "    <tr>\n",
       "      <th>34</th>\n",
       "      <td>S3975 - S3980</td>\n",
       "      <td>10</td>\n",
       "      <td>35103</td>\n",
       "      <td>5205</td>\n",
       "    </tr>\n",
       "    <tr>\n",
       "      <th>27</th>\n",
       "      <td>S3971 - S3972</td>\n",
       "      <td>4</td>\n",
       "      <td>6148</td>\n",
       "      <td>878</td>\n",
       "    </tr>\n",
       "    <tr>\n",
       "      <th>35</th>\n",
       "      <td>S3980 - S3981</td>\n",
       "      <td>3</td>\n",
       "      <td>9671</td>\n",
       "      <td>1630</td>\n",
       "    </tr>\n",
       "    <tr>\n",
       "      <th>30</th>\n",
       "      <td>S3974 - S3974</td>\n",
       "      <td>2</td>\n",
       "      <td>5646</td>\n",
       "      <td>930</td>\n",
       "    </tr>\n",
       "    <tr>\n",
       "      <th>28</th>\n",
       "      <td>S3972 - S3973</td>\n",
       "      <td>2</td>\n",
       "      <td>8329</td>\n",
       "      <td>1367</td>\n",
       "    </tr>\n",
       "    <tr>\n",
       "      <th>...</th>\n",
       "      <td>...</td>\n",
       "      <td>...</td>\n",
       "      <td>...</td>\n",
       "      <td>...</td>\n",
       "    </tr>\n",
       "    <tr>\n",
       "      <th>21</th>\n",
       "      <td>S3967 - S3967</td>\n",
       "      <td>1</td>\n",
       "      <td>553</td>\n",
       "      <td>90</td>\n",
       "    </tr>\n",
       "    <tr>\n",
       "      <th>22</th>\n",
       "      <td>S3967 - S3968</td>\n",
       "      <td>1</td>\n",
       "      <td>3813</td>\n",
       "      <td>624</td>\n",
       "    </tr>\n",
       "    <tr>\n",
       "      <th>29</th>\n",
       "      <td>S3973 - S3974</td>\n",
       "      <td>1</td>\n",
       "      <td>4664</td>\n",
       "      <td>749</td>\n",
       "    </tr>\n",
       "    <tr>\n",
       "      <th>1</th>\n",
       "      <td>E613 - E613</td>\n",
       "      <td>1</td>\n",
       "      <td>2348</td>\n",
       "      <td>335</td>\n",
       "    </tr>\n",
       "    <tr>\n",
       "      <th>62</th>\n",
       "      <td>S3997 - S3997</td>\n",
       "      <td>1</td>\n",
       "      <td>358</td>\n",
       "      <td>51</td>\n",
       "    </tr>\n",
       "  </tbody>\n",
       "</table>\n",
       "<p>63 rows × 4 columns</p>\n",
       "</div>"
      ],
      "text/plain": [
       "            Pages #_Speakers #_char_count #_word_count\n",
       "34  S3975 - S3980         10        35103         5205\n",
       "27  S3971 - S3972          4         6148          878\n",
       "35  S3980 - S3981          3         9671         1630\n",
       "30  S3974 - S3974          2         5646          930\n",
       "28  S3972 - S3973          2         8329         1367\n",
       "..            ...        ...          ...          ...\n",
       "21  S3967 - S3967          1          553           90\n",
       "22  S3967 - S3968          1         3813          624\n",
       "29  S3973 - S3974          1         4664          749\n",
       "1     E613 - E613          1         2348          335\n",
       "62  S3997 - S3997          1          358           51\n",
       "\n",
       "[63 rows x 4 columns]"
      ]
     },
     "execution_count": 88,
     "metadata": {},
     "output_type": "execute_result"
    }
   ],
   "source": [
    "\n",
    "print(\"This table shows a summary stats of number of speaker, and char/word count by page\")\n",
    "\n",
    "(pages_df.sort_values(by = '#_Speakers', ascending = False))"
   ]
  },
  {
   "cell_type": "markdown",
   "metadata": {},
   "source": [
    "## Summary table of total number of speakers, and words in the given document"
   ]
  },
  {
   "cell_type": "code",
   "execution_count": 89,
   "metadata": {},
   "outputs": [
    {
     "name": "stdout",
     "output_type": "stream",
     "text": [
      "Number of Speakers in the session are: 83\n",
      "Number of words in the session are: 34760\n"
     ]
    }
   ],
   "source": [
    "print(\"Number of Speakers in the session are: {}\".format(pages_df['#_Speakers'].sum()))\n",
    "print(\"Number of words in the session are: {}\".format(pages_df['#_word_count'].sum()))"
   ]
  },
  {
   "cell_type": "markdown",
   "metadata": {},
   "source": [
    "## Save the output in a csv file"
   ]
  },
  {
   "cell_type": "code",
   "execution_count": 90,
   "metadata": {},
   "outputs": [],
   "source": [
    "df.to_csv(\"Summarized CREC Data.csv\")"
   ]
  },
  {
   "cell_type": "markdown",
   "metadata": {},
   "source": [
    "## Procedure to generate summary statistics for multiple dates"
   ]
  },
  {
   "cell_type": "code",
   "execution_count": 91,
   "metadata": {},
   "outputs": [],
   "source": [
    "# Function to get the number of characters in each input string\n",
    "def char_count(input_text):\n",
    "    counter=0\n",
    "    for i in input_text:\n",
    "#         print(i)\n",
    "        counter+=1\n",
    "    return counter\n",
    "\n",
    "# Function to get the number of words in each input string\n",
    "def word_count(input_text):\n",
    "#     print(input_text.split())\n",
    "    counter=len(input_text.split())\n",
    "    return counter\n",
    "\n",
    "def get_data_statistics(input_dates):\n",
    "    \n",
    "#     input_dates = ['2021-06-07', '2021-06-08']\n",
    "    \n",
    "    # Creating an empty datafarme to collect speakers and character count in each page\n",
    "    summary_df = pd.DataFrame(columns=['Date_Parsed', '#_Speakers', '#_word_count'])\n",
    "    summary_index=0\n",
    "    \n",
    "    for iter_date in input_dates:\n",
    "        # defining input file location\n",
    "        # this is hard coded, but can be changed to programatically scroll through the entire directory\n",
    "        input_file_path = '/Users/jaysunda/Sundar/Personal/IU-DS/Final-Project/src/json_output/Cleaned-CREC-'\n",
    "        json_input_file_path = input_file_path + iter_date + '.json'\n",
    "        \n",
    "        df = pd.read_json(json_input_file_path)\n",
    "        df['processed_date'] = iter_date\n",
    "        \n",
    "        df_rows, df_columns = df.shape\n",
    "#         print(df.shape)\n",
    "    \n",
    "        cleanup_dict = {\"\\\\n\" : \" \", \n",
    "                \"\\\\t\" : \" \"}\n",
    "        \n",
    "        for key in cleanup_dict:\n",
    "            df['cleaned_text'] = df['cleaned_text'].str.replace(key,cleanup_dict[key])\n",
    "            \n",
    "        # Creating an empty datafarme to collect speakers and character count in each page\n",
    "        pages_df = pd.DataFrame(columns=['Pages', '#_Speakers', '#_char_count', '#_word_count'])\n",
    "        \n",
    "        # This loops through each row in the base dataframe to collect statistics\n",
    "        for index, row in df.iterrows():\n",
    "            pages_df.loc[index] = [row['Pages'], len(row['Speakers']), char_count(row['cleaned_text']), word_count(row['cleaned_text'])]\n",
    "            \n",
    "        summary_df.loc[summary_index] = [iter_date, pages_df['#_Speakers'].sum(), pages_df['#_word_count'].sum()]\n",
    "        summary_index+=1\n",
    "\n",
    "    print(summary_df)\n"
   ]
  },
  {
   "cell_type": "markdown",
   "metadata": {},
   "source": [
    "## Generated summary stats of number of speakers, and word count in the given date. "
   ]
  },
  {
   "cell_type": "code",
   "execution_count": 92,
   "metadata": {},
   "outputs": [
    {
     "name": "stdout",
     "output_type": "stream",
     "text": [
      "   Date_Parsed #_Speakers #_word_count\n",
      "0   1994-12-01        228       271833\n",
      "1   1996-10-04         61        50743\n",
      "2   1998-07-23        355       293045\n",
      "3   2000-06-07        228       273663\n",
      "4   2002-07-26        285       345806\n",
      "5   2003-06-05        321       247797\n",
      "6   2005-06-23        286       295084\n",
      "7   2008-11-17         60        68595\n",
      "8   2010-12-22        299       249135\n",
      "9   2021-02-24        116        75652\n",
      "10  2021-06-07         31        23659\n",
      "11  2021-06-08         83        34760\n"
     ]
    }
   ],
   "source": [
    "get_data_statistics(['1994-12-01', '1996-10-04', '1998-07-23', '2000-06-07', '2002-07-26', '2003-06-05', '2005-06-23', '2008-11-17', '2010-12-22', '2021-02-24', '2021-06-07', '2021-06-08'])\n",
    "# get_stats('2021-06-08')"
   ]
  },
  {
   "cell_type": "markdown",
   "metadata": {},
   "source": [
    "# Test the data against the congress data generated through hein-bound"
   ]
  },
  {
   "cell_type": "markdown",
   "metadata": {},
   "source": [
    "The hienbound data is downloaded from the below stanford website. The extracted data has a bunch of \"descr_\" files, which stores details around the curated speach id, and stats of speaker name, and word count. This function goes through a given file, filters for a particular date, and generates the number of words in the given session!\n",
    "\n",
    "Stanford Link: https://data.stanford.edu/congress_text#download-data"
   ]
  },
  {
   "cell_type": "code",
   "execution_count": 56,
   "metadata": {},
   "outputs": [],
   "source": [
    "import pandas as pd\n",
    "df = pd.read_csv('/Users/jaysunda/Downloads/hein-bound/descr_111.txt', sep='|')"
   ]
  },
  {
   "cell_type": "code",
   "execution_count": 67,
   "metadata": {},
   "outputs": [
    {
     "data": {
      "text/plain": [
       "(179268, 14)"
      ]
     },
     "execution_count": 67,
     "metadata": {},
     "output_type": "execute_result"
    }
   ],
   "source": [
    "# Get the number of rows and columns in the file\n",
    "df.shape"
   ]
  },
  {
   "cell_type": "code",
   "execution_count": 68,
   "metadata": {},
   "outputs": [
    {
     "data": {
      "text/plain": [
       "Index(['speech_id', 'chamber', 'date', 'number_within_file', 'speaker',\n",
       "       'first_name', 'last_name', 'state', 'gender', 'line_start', 'line_end',\n",
       "       'file', 'char_count', 'word_count'],\n",
       "      dtype='object')"
      ]
     },
     "execution_count": 68,
     "metadata": {},
     "output_type": "execute_result"
    }
   ],
   "source": [
    "# Check the column name of the given file\n",
    "df.columns"
   ]
  },
  {
   "cell_type": "code",
   "execution_count": 70,
   "metadata": {},
   "outputs": [],
   "source": [
    "# filter the data frame for a particular date, in this case: 20101222(date format: YYYYMMDD)\n",
    "df_20101222 = df[df['date']==20101222]"
   ]
  },
  {
   "cell_type": "code",
   "execution_count": 71,
   "metadata": {},
   "outputs": [
    {
     "data": {
      "text/plain": [
       "(703, 14)"
      ]
     },
     "execution_count": 71,
     "metadata": {},
     "output_type": "execute_result"
    }
   ],
   "source": [
    "# Quickly check the shape of the filtered data\n",
    "df_20101222.shape"
   ]
  },
  {
   "cell_type": "code",
   "execution_count": 72,
   "metadata": {},
   "outputs": [
    {
     "name": "stdout",
     "output_type": "stream",
     "text": [
      "Number of words in the session are: 154049\n"
     ]
    }
   ],
   "source": [
    "# print(\"Number of Speakers in the session are: {}\".format(pages_df['#_Speakers'].sum()))\n",
    "print(\"Number of words in the session are: {}\".format(df_20101222['word_count'].sum()))"
   ]
  },
  {
   "cell_type": "markdown",
   "metadata": {},
   "source": [
    "# Observation, and Next steps"
   ]
  },
  {
   "cell_type": "markdown",
   "metadata": {},
   "source": [
    "Observation: The number of words for a given day in Heinboud is 154k, against 249k when downloaded directly from the stanford website. This difference can majorly be attributed to the post processing of data to remove common stop words such as adverbs and adjectives. \n",
    "\n",
    "Next Steps: The key next step can be to come up with a list of key stopwords to remove, and add a wrapper to the base python \"cleanup\" function to remove all the duplicative stopwords."
   ]
  },
  {
   "cell_type": "code",
   "execution_count": null,
   "metadata": {},
   "outputs": [],
   "source": []
  }
 ],
 "metadata": {
  "kernelspec": {
   "display_name": "Python 3",
   "language": "python",
   "name": "python3"
  },
  "language_info": {
   "codemirror_mode": {
    "name": "ipython",
    "version": 3
   },
   "file_extension": ".py",
   "mimetype": "text/x-python",
   "name": "python",
   "nbconvert_exporter": "python",
   "pygments_lexer": "ipython3",
   "version": "3.7.7"
  },
  "toc": {
   "base_numbering": 1,
   "nav_menu": {},
   "number_sections": true,
   "sideBar": true,
   "skip_h1_title": false,
   "title_cell": "Table of Contents",
   "title_sidebar": "Contents",
   "toc_cell": false,
   "toc_position": {},
   "toc_section_display": true,
   "toc_window_display": false
  }
 },
 "nbformat": 4,
 "nbformat_minor": 4
}
